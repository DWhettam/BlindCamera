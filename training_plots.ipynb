{
 "cells": [
  {
   "cell_type": "code",
   "execution_count": 1,
   "metadata": {},
   "outputs": [
    {
     "name": "stderr",
     "output_type": "stream",
     "text": [
      "\n",
      "Bad key \"text.kerning_factor\" on line 4 in\n",
      "/mnt/storage/home/qc19291/anaconda3/envs/BlindCamera/lib/python3.8/site-packages/matplotlib/mpl-data/stylelib/_classic_test_patch.mplstyle.\n",
      "You probably need to get an updated matplotlibrc file from\n",
      "https://github.com/matplotlib/matplotlib/blob/v3.1.3/matplotlibrc.template\n",
      "or from the matplotlib source distribution\n"
     ]
    }
   ],
   "source": [
    "import re\n",
    "import matplotlib.pyplot as plt"
   ]
  },
  {
   "cell_type": "code",
   "execution_count": 2,
   "metadata": {},
   "outputs": [],
   "source": [
    "train_error = []\n",
    "epoch_error = []\n",
    "val_error = []\n",
    "file = open('verb_fixed_len.out', 'r') \n",
    "Lines = file.readlines() \n",
    "epoch_num = 0\n",
    "for line in Lines:\n",
    "    if 'Epoch:' in line:\n",
    "        new_num = int(re.search('Epoch: \\[(\\d+)]', line).group(1))\n",
    "        if not(epoch_num == new_num):\n",
    "            epoch_error = list(map(float, epoch_error))\n",
    "            train_error.append((sum(epoch_error)/len(epoch_error)))\n",
    "            epoch_error = []\n",
    "            \n",
    "        result = re.search('Error@1 (\\d+\\.\\d+) \\((\\d+\\.\\d+)\\)', line)\n",
    "        error = result.group(1)\n",
    "        epoch_error.append(error)\n",
    "        epoch_num = new_num\n",
    "            \n",
    "        \n",
    "    elif ' * ' in line:\n",
    "        result = re.search('Error@1 (\\d+\\.\\d+)', line)\n",
    "        error = result.group(1)\n",
    "        val_error.append(error)\n",
    "train_error = list(map(float, train_error))\n",
    "val_error = list(map(float, val_error))"
   ]
  },
  {
   "cell_type": "code",
   "execution_count": 3,
   "metadata": {},
   "outputs": [
    {
     "name": "stdout",
     "output_type": "stream",
     "text": [
      "train:12.440943396226416\n",
      "val:65.781\n"
     ]
    },
    {
     "data": {
      "image/png": "[encoded data removed]",
      "text/plain": [
       "<Figure size 432x288 with 1 Axes>"
      ]
     },
     "metadata": {
      "needs_background": "light"
     },
     "output_type": "display_data"
    }
   ],
   "source": [
    "import numpy as np\n",
    "train_error = train_error[:len(train_error) - (len(train_error) % 5)]\n",
    "val_xaxis = list(range(0, len(train_error)+1, 5))\n",
    "\n",
    "print(\"train:\" + str(train_error[-1]))\n",
    "print(\"val:\" + str(val_error[-1]))\n",
    "\n",
    "plt.plot(train_error, label='Training Error')\n",
    "plt.plot(val_xaxis, val_error, label='Val Error')\n",
    "plt.xlabel('Epochs')\n",
    "plt.ylabel('Error')\n",
    "plt.legend()\n",
    "plt.show()"
   ]
  },
  {
   "cell_type": "code",
   "execution_count": null,
   "metadata": {},
   "outputs": [],
   "source": [
    "len(val_error)"
   ]
  },
  {
   "cell_type": "code",
   "execution_count": null,
   "metadata": {},
   "outputs": [],
   "source": [
    "len(train_error)"
   ]
  },
  {
   "cell_type": "code",
   "execution_count": null,
   "metadata": {},
   "outputs": [],
   "source": [
    "len(train_error) % 5"
   ]
  },
  {
   "cell_type": "code",
   "execution_count": null,
   "metadata": {},
   "outputs": [],
   "source": [
    "train_error = train_error[:(len(train_error) - (len(train_error) % 5))]\n",
    "print(len(train_error))\n",
    "val_xaxis = list(range(0, len(train_error)+1, 5))\n",
    "print(len(val_xaxis))"
   ]
  },
  {
   "cell_type": "code",
   "execution_count": null,
   "metadata": {},
   "outputs": [],
   "source": [
    "val_xaxis"
   ]
  },
  {
   "cell_type": "code",
   "execution_count": null,
   "metadata": {},
   "outputs": [],
   "source": []
  }
 ],
 "metadata": {
  "kernelspec": {
   "display_name": "Python 3",
   "language": "python",
   "name": "python3"
  },
  "language_info": {
   "codemirror_mode": {
    "name": "ipython",
    "version": 3
   },
   "file_extension": ".py",
   "mimetype": "text/x-python",
   "name": "python",
   "nbconvert_exporter": "python",
   "pygments_lexer": "ipython3",
   "version": "3.8.2"
  }
 },
 "nbformat": 4,
 "nbformat_minor": 4
}
